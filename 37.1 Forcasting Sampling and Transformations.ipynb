{
 "cells": [
  {
   "cell_type": "markdown",
   "metadata": {},
   "source": [
    "# Forcasting Sampling and Transformations"
   ]
  },
  {
   "cell_type": "markdown",
   "metadata": {},
   "source": [
    "#### Upsampling Data"
   ]
  },
  {
   "cell_type": "code",
   "execution_count": 2,
   "metadata": {},
   "outputs": [],
   "source": [
    "# upsample to daily intervals\n",
    "from pandas import read_csv\n",
    "#from pandas import datetime\n",
    "from datetime import datetime\n",
    "from matplotlib import pyplot"
   ]
  },
  {
   "cell_type": "code",
   "execution_count": 5,
   "metadata": {},
   "outputs": [
    {
     "data": {
      "text/plain": [
       "Month\n",
       "1990-01-01    266.0\n",
       "1990-02-01    145.9\n",
       "1990-03-01    183.1\n",
       "1990-04-01    119.3\n",
       "1990-05-01    180.3\n",
       "1990-06-01    168.5\n",
       "1990-07-01    231.8\n",
       "1990-08-01    224.5\n",
       "1990-09-01    192.8\n",
       "1990-10-01    122.9\n",
       "1990-11-01    336.5\n",
       "1990-12-01    185.9\n",
       "1991-01-01    194.3\n",
       "1991-02-01    149.5\n",
       "1991-03-01    210.1\n",
       "1991-04-01    273.3\n",
       "1991-05-01    191.4\n",
       "1991-06-01    287.0\n",
       "1991-07-01    226.0\n",
       "1991-08-01    303.6\n",
       "1991-09-01    289.9\n",
       "1991-10-01    421.6\n",
       "1991-11-01    264.5\n",
       "1991-12-01    342.3\n",
       "1992-01-01    339.7\n",
       "1992-02-01    440.4\n",
       "1992-03-01    315.9\n",
       "1992-04-01    439.3\n",
       "1992-05-01    401.3\n",
       "1992-06-01    437.4\n",
       "1992-07-01    575.5\n",
       "1992-08-01    407.6\n",
       "1992-09-01    682.0\n",
       "1992-10-01    475.3\n",
       "1992-11-01    581.3\n",
       "1992-12-01    646.9\n",
       "Name: Sales, dtype: float64"
      ]
     },
     "execution_count": 5,
     "metadata": {},
     "output_type": "execute_result"
    }
   ],
   "source": [
    "series = read_csv('sales.csv', header=0, index_col=0, parse_dates=True,squeeze=True)\n",
    "series"
   ]
  },
  {
   "cell_type": "code",
   "execution_count": 11,
   "metadata": {},
   "outputs": [
    {
     "name": "stdout",
     "output_type": "stream",
     "text": [
      "Month\n",
      "1990-01-01    266.0\n",
      "1990-01-02      NaN\n",
      "1990-01-03      NaN\n",
      "1990-01-04      NaN\n",
      "1990-01-05      NaN\n",
      "1990-01-06      NaN\n",
      "1990-01-07      NaN\n",
      "1990-01-08      NaN\n",
      "1990-01-09      NaN\n",
      "1990-01-10      NaN\n",
      "1990-01-11      NaN\n",
      "1990-01-12      NaN\n",
      "1990-01-13      NaN\n",
      "1990-01-14      NaN\n",
      "1990-01-15      NaN\n",
      "1990-01-16      NaN\n",
      "1990-01-17      NaN\n",
      "1990-01-18      NaN\n",
      "1990-01-19      NaN\n",
      "1990-01-20      NaN\n",
      "1990-01-21      NaN\n",
      "1990-01-22      NaN\n",
      "1990-01-23      NaN\n",
      "1990-01-24      NaN\n",
      "1990-01-25      NaN\n",
      "1990-01-26      NaN\n",
      "1990-01-27      NaN\n",
      "1990-01-28      NaN\n",
      "1990-01-29      NaN\n",
      "1990-01-30      NaN\n",
      "1990-01-31      NaN\n",
      "1990-02-01    145.9\n",
      "Freq: D, Name: Sales, dtype: float64\n"
     ]
    }
   ],
   "source": [
    "upsampled = series.resample('D').mean()\n",
    "print(upsampled.head(32))"
   ]
  },
  {
   "cell_type": "markdown",
   "metadata": {},
   "source": [
    "##### interpolate the missing value"
   ]
  },
  {
   "cell_type": "code",
   "execution_count": 5,
   "metadata": {},
   "outputs": [
    {
     "name": "stdout",
     "output_type": "stream",
     "text": [
      "Month\n",
      "1990-01-01    266.000000\n",
      "1990-01-02    262.125806\n",
      "1990-01-03    258.251613\n",
      "1990-01-04    254.377419\n",
      "1990-01-05    250.503226\n",
      "1990-01-06    246.629032\n",
      "1990-01-07    242.754839\n",
      "1990-01-08    238.880645\n",
      "1990-01-09    235.006452\n",
      "1990-01-10    231.132258\n",
      "1990-01-11    227.258065\n",
      "1990-01-12    223.383871\n",
      "1990-01-13    219.509677\n",
      "1990-01-14    215.635484\n",
      "1990-01-15    211.761290\n",
      "1990-01-16    207.887097\n",
      "1990-01-17    204.012903\n",
      "1990-01-18    200.138710\n",
      "1990-01-19    196.264516\n",
      "1990-01-20    192.390323\n",
      "1990-01-21    188.516129\n",
      "1990-01-22    184.641935\n",
      "1990-01-23    180.767742\n",
      "1990-01-24    176.893548\n",
      "1990-01-25    173.019355\n",
      "1990-01-26    169.145161\n",
      "1990-01-27    165.270968\n",
      "1990-01-28    161.396774\n",
      "1990-01-29    157.522581\n",
      "1990-01-30    153.648387\n",
      "1990-01-31    149.774194\n",
      "1990-02-01    145.900000\n",
      "Freq: D, Name: Sales, dtype: float64\n"
     ]
    },
    {
     "data": {
      "image/png": "[encoded data removed]",
      "text/plain": [
       "<Figure size 432x288 with 1 Axes>"
      ]
     },
     "metadata": {
      "needs_background": "light"
     },
     "output_type": "display_data"
    }
   ],
   "source": [
    "interpolated = upsampled.interpolate(method='linear')\n",
    "print(interpolated.head(32))\n",
    "interpolated.plot()\n",
    "pyplot.show()"
   ]
  },
  {
   "cell_type": "markdown",
   "metadata": {},
   "source": [
    "#### Downsampling Data"
   ]
  },
  {
   "cell_type": "code",
   "execution_count": 12,
   "metadata": {},
   "outputs": [],
   "source": [
    "# downsample to quarterly intervals\n",
    "from pandas import read_csv\n",
    "#from pandas import datetime\n",
    "from datetime import datetime\n",
    "from matplotlib import pyplot"
   ]
  },
  {
   "cell_type": "code",
   "execution_count": 18,
   "metadata": {},
   "outputs": [
    {
     "data": {
      "text/plain": [
       "Month\n",
       "1990-03-31    198.333333\n",
       "1990-06-30    156.033333\n",
       "1990-09-30    216.366667\n",
       "1990-12-31    215.100000\n",
       "1991-03-31    184.633333\n",
       "1991-06-30    250.566667\n",
       "1991-09-30    273.166667\n",
       "1991-12-31    342.800000\n",
       "1992-03-31    365.333333\n",
       "1992-06-30    426.000000\n",
       "1992-09-30    555.033333\n",
       "1992-12-31    567.833333\n",
       "Freq: Q-DEC, Name: Sales, dtype: float64"
      ]
     },
     "execution_count": 18,
     "metadata": {},
     "output_type": "execute_result"
    }
   ],
   "source": [
    "resample = series.resample('Q')\n",
    "quarterly_mean_sales = resample.mean()\n",
    "quarterly_mean_sales"
   ]
  },
  {
   "cell_type": "markdown",
   "metadata": {},
   "source": [
    "# Tranformations"
   ]
  },
  {
   "cell_type": "code",
   "execution_count": 19,
   "metadata": {},
   "outputs": [],
   "source": [
    "# load and plot a time series\n",
    "from pandas import read_csv\n",
    "from matplotlib import pyplot"
   ]
  },
  {
   "cell_type": "code",
   "execution_count": 21,
   "metadata": {},
   "outputs": [
    {
     "data": {
      "text/html": [
       "<div>\n",
       "<style scoped>\n",
       "    .dataframe tbody tr th:only-of-type {\n",
       "        vertical-align: middle;\n",
       "    }\n",
       "\n",
       "    .dataframe tbody tr th {\n",
       "        vertical-align: top;\n",
       "    }\n",
       "\n",
       "    .dataframe thead th {\n",
       "        text-align: right;\n",
       "    }\n",
       "</style>\n",
       "<table border=\"1\" class=\"dataframe\">\n",
       "  <thead>\n",
       "    <tr style=\"text-align: right;\">\n",
       "      <th></th>\n",
       "      <th>Passengers</th>\n",
       "    </tr>\n",
       "    <tr>\n",
       "      <th>Month</th>\n",
       "      <th></th>\n",
       "    </tr>\n",
       "  </thead>\n",
       "  <tbody>\n",
       "    <tr>\n",
       "      <th>1949-01-01</th>\n",
       "      <td>112</td>\n",
       "    </tr>\n",
       "    <tr>\n",
       "      <th>1949-02-01</th>\n",
       "      <td>118</td>\n",
       "    </tr>\n",
       "    <tr>\n",
       "      <th>1949-03-01</th>\n",
       "      <td>132</td>\n",
       "    </tr>\n",
       "    <tr>\n",
       "      <th>1949-04-01</th>\n",
       "      <td>129</td>\n",
       "    </tr>\n",
       "    <tr>\n",
       "      <th>1949-05-01</th>\n",
       "      <td>121</td>\n",
       "    </tr>\n",
       "    <tr>\n",
       "      <th>...</th>\n",
       "      <td>...</td>\n",
       "    </tr>\n",
       "    <tr>\n",
       "      <th>1960-08-01</th>\n",
       "      <td>606</td>\n",
       "    </tr>\n",
       "    <tr>\n",
       "      <th>1960-09-01</th>\n",
       "      <td>508</td>\n",
       "    </tr>\n",
       "    <tr>\n",
       "      <th>1960-10-01</th>\n",
       "      <td>461</td>\n",
       "    </tr>\n",
       "    <tr>\n",
       "      <th>1960-11-01</th>\n",
       "      <td>390</td>\n",
       "    </tr>\n",
       "    <tr>\n",
       "      <th>1960-12-01</th>\n",
       "      <td>432</td>\n",
       "    </tr>\n",
       "  </tbody>\n",
       "</table>\n",
       "<p>144 rows × 1 columns</p>\n",
       "</div>"
      ],
      "text/plain": [
       "            Passengers\n",
       "Month                 \n",
       "1949-01-01         112\n",
       "1949-02-01         118\n",
       "1949-03-01         132\n",
       "1949-04-01         129\n",
       "1949-05-01         121\n",
       "...                ...\n",
       "1960-08-01         606\n",
       "1960-09-01         508\n",
       "1960-10-01         461\n",
       "1960-11-01         390\n",
       "1960-12-01         432\n",
       "\n",
       "[144 rows x 1 columns]"
      ]
     },
     "execution_count": 21,
     "metadata": {},
     "output_type": "execute_result"
    }
   ],
   "source": [
    "series = read_csv('airline-passengers.csv', header=0, index_col=0, parse_dates=True)\n",
    "series"
   ]
  },
  {
   "cell_type": "code",
   "execution_count": 37,
   "metadata": {},
   "outputs": [
    {
     "data": {
      "image/png": "[encoded data removed]",
      "text/plain": [
       "<Figure size 432x288 with 2 Axes>"
      ]
     },
     "metadata": {
      "needs_background": "light"
     },
     "output_type": "display_data"
    }
   ],
   "source": [
    "# line plot\n",
    "pyplot.subplot(211)\n",
    "pyplot.plot(series)\n",
    "# histogram\n",
    "pyplot.subplot(212)\n",
    "pyplot.hist(series)\n",
    "pyplot.show()"
   ]
  },
  {
   "cell_type": "markdown",
   "metadata": {},
   "source": [
    "#### Square Root Transform"
   ]
  },
  {
   "cell_type": "code",
   "execution_count": 38,
   "metadata": {},
   "outputs": [],
   "source": [
    "from pandas import read_csv\n",
    "from pandas import DataFrame\n",
    "from numpy import sqrt\n",
    "from matplotlib import pyplot"
   ]
  },
  {
   "cell_type": "code",
   "execution_count": 39,
   "metadata": {},
   "outputs": [],
   "source": [
    "dataframe = DataFrame(series.values)\n",
    "dataframe.columns = ['passengers']\n",
    "dataframe['passengers'] = sqrt(dataframe['passengers'])"
   ]
  },
  {
   "cell_type": "code",
   "execution_count": 40,
   "metadata": {},
   "outputs": [
    {
     "data": {
      "image/png": "[encoded data removed]",
      "text/plain": [
       "<Figure size 432x288 with 2 Axes>"
      ]
     },
     "metadata": {
      "needs_background": "light"
     },
     "output_type": "display_data"
    }
   ],
   "source": [
    "# line plot\n",
    "pyplot.subplot(211)\n",
    "pyplot.plot(dataframe['passengers'])\n",
    "# histogram\n",
    "pyplot.subplot(212)\n",
    "pyplot.hist(dataframe['passengers'])\n",
    "pyplot.show()"
   ]
  },
  {
   "cell_type": "markdown",
   "metadata": {},
   "source": [
    "#### Log Transform"
   ]
  },
  {
   "cell_type": "code",
   "execution_count": 41,
   "metadata": {},
   "outputs": [
    {
     "data": {
      "image/png": "[encoded data removed]",
      "text/plain": [
       "<Figure size 432x288 with 2 Axes>"
      ]
     },
     "metadata": {
      "needs_background": "light"
     },
     "output_type": "display_data"
    }
   ],
   "source": [
    "from numpy import log\n",
    "dataframe = DataFrame(series.values)\n",
    "dataframe.columns = ['passengers']\n",
    "dataframe['passengers'] = log(dataframe['passengers'])\n",
    "\n",
    "# line plot\n",
    "pyplot.subplot(211)\n",
    "pyplot.plot(dataframe['passengers'])\n",
    "# histogram\n",
    "pyplot.subplot(212)\n",
    "pyplot.hist(dataframe['passengers'])\n",
    "pyplot.show()"
   ]
  },
  {
   "cell_type": "code",
   "execution_count": null,
   "metadata": {},
   "outputs": [],
   "source": []
  },
  {
   "cell_type": "code",
   "execution_count": 42,
   "metadata": {},
   "outputs": [
    {
     "name": "stdout",
     "output_type": "stream",
     "text": [
      "Month\n",
      "1990-03-31    198.333333\n",
      "1990-06-30    156.033333\n",
      "1990-09-30    216.366667\n",
      "1990-12-31    215.100000\n",
      "1991-03-31    184.633333\n",
      "Freq: Q-DEC, Name: Sales, dtype: float64\n"
     ]
    },
    {
     "data": {
      "image/png": "[encoded data removed]",
      "text/plain": [
       "<Figure size 432x288 with 1 Axes>"
      ]
     },
     "metadata": {
      "needs_background": "light"
     },
     "output_type": "display_data"
    }
   ],
   "source": [
    "print(quarterly_mean_sales.head())\n",
    "quarterly_mean_sales.plot()\n",
    "pyplot.show()"
   ]
  },
  {
   "cell_type": "code",
   "execution_count": null,
   "metadata": {},
   "outputs": [],
   "source": []
  }
 ],
 "metadata": {
  "kernelspec": {
   "display_name": "Python 3 (ipykernel)",
   "language": "python",
   "name": "python3"
  },
  "language_info": {
   "codemirror_mode": {
    "name": "ipython",
    "version": 3
   },
   "file_extension": ".py",
   "mimetype": "text/x-python",
   "name": "python",
   "nbconvert_exporter": "python",
   "pygments_lexer": "ipython3",
   "version": "3.9.7"
  }
 },
 "nbformat": 4,
 "nbformat_minor": 2
}
