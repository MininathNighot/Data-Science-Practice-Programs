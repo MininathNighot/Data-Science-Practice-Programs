{
 "cells": [
  {
   "cell_type": "code",
   "execution_count": 1,
   "id": "03f9c7d4",
   "metadata": {},
   "outputs": [
    {
     "name": "stdout",
     "output_type": "stream",
     "text": [
      "[ inf  nan -inf  inf  nan  nan  nan  nan]\n"
     ]
    }
   ],
   "source": [
    "from scipy.stats import norm\n",
    "import numpy as np\n",
    "print(norm.ppf(np.array([1,-1., 0, 1, 3, 4, -2, 6])))"
   ]
  },
  {
   "cell_type": "code",
   "execution_count": 2,
   "id": "6cf14d2d",
   "metadata": {},
   "outputs": [
    {
     "name": "stdout",
     "output_type": "stream",
     "text": [
      "[-0.22384801 -1.58330655 -1.97651734  0.02175291  0.74523283]\n"
     ]
    }
   ],
   "source": [
    "print(norm.rvs(size = 5))"
   ]
  },
  {
   "cell_type": "code",
   "execution_count": 3,
   "id": "b1f55417",
   "metadata": {},
   "outputs": [
    {
     "data": {
      "text/plain": [
       "array([0.        , 0.        , 0.09090909, 0.18181818, 0.27272727,\n",
       "       0.36363636])"
      ]
     },
     "execution_count": 3,
     "metadata": {},
     "output_type": "execute_result"
    }
   ],
   "source": [
    "from scipy.stats import uniform\n",
    "uniform.cdf([0, 1, 2, 3, 4, 5], loc = 1, scale = 11)"
   ]
  },
  {
   "cell_type": "code",
   "execution_count": 4,
   "id": "14e63b5d",
   "metadata": {},
   "outputs": [
    {
     "name": "stdout",
     "output_type": "stream",
     "text": [
      "9 1 5.0 6.666666666666667 2.581988897471611\n"
     ]
    }
   ],
   "source": [
    "from scipy import stats\n",
    "import numpy as np\n",
    "x = np.array([1,2,3,4,5,6,7,8,9])\n",
    "print(x.max(),x.min(),x.mean(),x.var(), x.std())"
   ]
  },
  {
   "cell_type": "code",
   "execution_count": 7,
   "id": "0b366d87",
   "metadata": {},
   "outputs": [
    {
     "name": "stdout",
     "output_type": "stream",
     "text": [
      "[0.84134475 0.02275013 0.5        0.99996833 0.99999971 0.9986501 ]\n"
     ]
    }
   ],
   "source": [
    "print (norm.cdf(np.array([1,-2,0,4,5,3])))"
   ]
  },
  {
   "cell_type": "code",
   "execution_count": 31,
   "id": "924fdc86",
   "metadata": {},
   "outputs": [
    {
     "data": {
      "text/plain": [
       "Ttest_1sampResult(statistic=array([-29.56615672, -28.47765772]), pvalue=array([6.70716110e-33, 3.81706076e-32]))"
      ]
     },
     "execution_count": 31,
     "metadata": {},
     "output_type": "execute_result"
    }
   ],
   "source": [
    "#Ttest_1\n",
    "from scipy import stats\n",
    "rvs = stats.norm.rvs(loc = 1, scale = 1, size = (50,2))\n",
    "\n",
    "stats.ttest_1samp(rvs,5.0)"
   ]
  },
  {
   "cell_type": "code",
   "execution_count": 34,
   "id": "e7b80a68",
   "metadata": {},
   "outputs": [
    {
     "data": {
      "text/plain": [
       "Ttest_indResult(statistic=-8.410866609049963, pvalue=1.3943578323451487e-16)"
      ]
     },
     "execution_count": 34,
     "metadata": {},
     "output_type": "execute_result"
    }
   ],
   "source": [
    "from scipy import stats\n",
    "rvs1 = stats.norm.rvs(loc = 1,scale = 1,size = 500)\n",
    "rvs2 = stats.norm.rvs(loc = 5,scale = 10,size = 500)\n",
    "stats.ttest_ind(rvs1,rvs2)"
   ]
  },
  {
   "cell_type": "markdown",
   "id": "6cde9b01",
   "metadata": {},
   "source": [
    "# One Tail Test"
   ]
  },
  {
   "cell_type": "code",
   "execution_count": 47,
   "id": "232f9f46",
   "metadata": {},
   "outputs": [
    {
     "data": {
      "text/plain": [
       "array([ 1.84954497, -1.08287627,  3.39966115, -1.66945763,  3.43388751,\n",
       "       -1.57046543, -0.67961578,  0.69031832,  1.6670603 ,  3.2579928 ])"
      ]
     },
     "execution_count": 47,
     "metadata": {},
     "output_type": "execute_result"
    }
   ],
   "source": [
    "data1=uniform.cdf([1,2,3,4,5,6,7,8,9,10],loc=2,scale=3)\n",
    "data"
   ]
  },
  {
   "cell_type": "code",
   "execution_count": 48,
   "id": "fc795aa7",
   "metadata": {},
   "outputs": [
    {
     "data": {
      "text/plain": [
       "array([ 1.84954497, -1.08287627,  3.39966115, -1.66945763,  3.43388751,\n",
       "       -1.57046543, -0.67961578,  0.69031832,  1.6670603 ,  3.2579928 ])"
      ]
     },
     "execution_count": 48,
     "metadata": {},
     "output_type": "execute_result"
    }
   ],
   "source": [
    "data2=stats.norm.rvs(loc=1,scale=3,size=10)\n",
    "data"
   ]
  },
  {
   "cell_type": "code",
   "execution_count": 46,
   "id": "618f25da",
   "metadata": {},
   "outputs": [
    {
     "data": {
      "text/plain": [
       "0.181584177045724"
      ]
     },
     "execution_count": 46,
     "metadata": {},
     "output_type": "execute_result"
    }
   ],
   "source": [
    "#This gives two tail test p value so divide by 2 to get final p-value\n",
    "p=scipy.stats.ttest_1samp(data,0.3)[1]\n",
    "p_value= p/2\n",
    "p_value"
   ]
  },
  {
   "cell_type": "code",
   "execution_count": 49,
   "id": "f0b53c41",
   "metadata": {},
   "outputs": [
    {
     "data": {
      "text/plain": [
       "Ttest_indResult(statistic=1.4806150669742029, pvalue=0.15600106857053078)"
      ]
     },
     "execution_count": 49,
     "metadata": {},
     "output_type": "execute_result"
    }
   ],
   "source": [
    "stats.ttest_ind( data1,data2)"
   ]
  },
  {
   "cell_type": "code",
   "execution_count": 50,
   "id": "a5051777",
   "metadata": {},
   "outputs": [
    {
     "data": {
      "text/plain": [
       "(1.4806150669742029, 0.15600106857053078, 18.0)"
      ]
     },
     "execution_count": 50,
     "metadata": {},
     "output_type": "execute_result"
    }
   ],
   "source": [
    "#Proportion Test\n",
    "import statsmodels.api as sm\n",
    "sm.stats.ttest_ind( data1,data2)"
   ]
  },
  {
   "cell_type": "code",
   "execution_count": null,
   "id": "6afc7c65",
   "metadata": {},
   "outputs": [],
   "source": []
  }
 ],
 "metadata": {
  "kernelspec": {
   "display_name": "Python 3 (ipykernel)",
   "language": "python",
   "name": "python3"
  },
  "language_info": {
   "codemirror_mode": {
    "name": "ipython",
    "version": 3
   },
   "file_extension": ".py",
   "mimetype": "text/x-python",
   "name": "python",
   "nbconvert_exporter": "python",
   "pygments_lexer": "ipython3",
   "version": "3.9.7"
  }
 },
 "nbformat": 4,
 "nbformat_minor": 5
}
